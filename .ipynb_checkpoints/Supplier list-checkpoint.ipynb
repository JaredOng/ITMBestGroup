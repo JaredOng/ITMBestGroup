{
 "cells": [
  {
   "cell_type": "code",
   "execution_count": 5,
   "metadata": {},
   "outputs": [],
   "source": [
    "Supplier_Database = {\n",
    "    \"Jared's Carriage Retail\": \n",
    "        {\"Email\": \"jared@jaredretail.com\", \n",
    "            \"Products_CostsPHP\":{ \n",
    "                \"Lucky Mo Big Noodles\": 500,\n",
    "                \"Venus Chocolate Bars\": 4000,\n",
    "                \"Magnolia Garlic Bread\": 4231,\n",
    "                \"NPA Rice\": 368.55\n",
    "        }},\n",
    "    \"Shan's Shampoo\":\n",
    "        {\"Email\": \"shan@shanpoo.com\", \n",
    "            \"Products_CostsPHP\":{ \n",
    "                \"Beach Fabric Conditioner\": 2356,\n",
    "                \"Don Rox Bleach\": 4200,\n",
    "                \"Panteen Shampoo\": 450,\n",
    "                \"Col Git Toothpaste\": 1240\n",
    "        }},\n",
    "    \"Colyn's Cola\":\n",
    "    {\"Email\": \"colyn@colyncola.com\", \n",
    "        \"Products_CostsPHP\":{ \n",
    "            \"Mrs. Chips\" : 1500,\n",
    "            \"Brava Biscuits\": 500 ,\n",
    "            \"Rita Round Biscuits\": 250,\n",
    "            \"Royal Cola\": 2150\n",
    "        }},\n",
    "    \"Reese's Milk and Cheese retail\":\n",
    "    {\"Email\": \"reese@reesecheese.com\", \n",
    "        \"Products_CostsPHP\":{ \n",
    "            \"Bullhead Milk\": 2000 ,\n",
    "            \"Mila’s Chocolate Milk\": 2300 ,\n",
    "            \"Select Vanilla Ice Cream\": 2000,\n",
    "            \"Dairy King Ice Cream\": 3200,\n",
    "            \"Mr. Jelly Gulaman Pack\": 2100\n",
    "        }},\n",
    "    \"Os' Sauce and salts\":\n",
    "    {\"Email\": \"os@ossauce.com\", \n",
    "    \"Products_CostsPHP\":{ \n",
    "        \"Silver Duck Soy Sauce\": 1250 ,\n",
    "        \"Datu Itim Vinegar\": 1750 ,\n",
    "        \"Mayon Blue Salt\": 2300\n",
    "    }},\n",
    "    \n",
    "    \n",
    "}\n",
    "\n",
    "\n",
    "\n",
    "# {Name of Supplier : \n",
    "#     {Email: _, \n",
    "#      Products: {Product Supplied: Price} , ...}"
   ]
  },
  {
   "cell_type": "code",
   "execution_count": null,
   "metadata": {},
   "outputs": [],
   "source": [
    "\n"
   ]
  }
 ],
 "metadata": {
  "kernelspec": {
   "display_name": "Python 3",
   "language": "python",
   "name": "python3"
  },
  "language_info": {
   "codemirror_mode": {
    "name": "ipython",
    "version": 3
   },
   "file_extension": ".py",
   "mimetype": "text/x-python",
   "name": "python",
   "nbconvert_exporter": "python",
   "pygments_lexer": "ipython3",
   "version": "3.8.5"
  }
 },
 "nbformat": 4,
 "nbformat_minor": 4
}
