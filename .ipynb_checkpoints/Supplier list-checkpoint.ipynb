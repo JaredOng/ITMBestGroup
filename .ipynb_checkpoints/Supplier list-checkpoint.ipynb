{
 "cells": [
  {
   "cell_type": "code",
   "execution_count": 1,
   "metadata": {},
   "outputs": [
    {
     "ename": "SyntaxError",
     "evalue": "invalid syntax (<ipython-input-1-29b20a6554ef>, line 11)",
     "output_type": "error",
     "traceback": [
      "\u001b[1;36m  File \u001b[1;32m\"<ipython-input-1-29b20a6554ef>\"\u001b[1;36m, line \u001b[1;32m11\u001b[0m\n\u001b[1;33m    \"Products\":}}\u001b[0m\n\u001b[1;37m               ^\u001b[0m\n\u001b[1;31mSyntaxError\u001b[0m\u001b[1;31m:\u001b[0m invalid syntax\n"
     ]
    }
   ],
   "source": [
    "Supplier_Database = {\n",
    "    \n",
    "# Jared's Carriage\n",
    "# Shan's Shampoo\n",
    "# Colyn's Cola\n",
    "# Reese's Milk and cheese retail\n",
    "    \n",
    "{\n",
    "    \"Jared's Carriage Retail\": \n",
    "        {\"Email\": \"jaredong@jaredretail.com\", \n",
    "        \"Products_CostsPHP\":\n",
    "        { \"Mrs. Chips\" : 80,\n",
    "            \n",
    "        }}}\n",
    "    \n",
    "#     \"Bullhead Milk\" : 50,\n",
    "#     \"Brava Biscuits\" : 80,\n",
    "#     \"Mila's Chocolate Milk\" :50,\n",
    "#     \"Rita Round Biscuits\" : 80,\n",
    "#     \"Royal Cola\" : 20,\n",
    "#     \"Mrs. Chips\" : 80,\n",
    "#     \"Lucky Mo Big Noodles\" : 20,\n",
    "#     \"Silver Duck Soy Sauce\" : 20,\n",
    "#     \"Datu Itim Vinegar\" : 20,\n",
    "#     \"Select Vanilla Ice Cream\" : 40,\n",
    "#     \"Venus Chocolate Bars\" : 80,\n",
    "#     \"NPA Rice\" : 20,\n",
    "#     \"Beach Fabric Conditioner\" : 20,\n",
    "#     \"Don Rox Bleach\" : 20,\n",
    "#     \"Dairy King Ice Cream\" : 40,\n",
    "#     \"Mr. Jelly Gulaman Pack\" : 20,\n",
    "#     \"Magnolia Garlic Bread\" : 20,\n",
    "#     \"Panteen Shampoo\" : 40,  \n",
    "#     \"Col Git Toothpaste\" : 40,\n",
    "#     \"Mayon Blue Salt\" : 40,\n",
    "}\n",
    "\n",
    "\n",
    "# {Name of Supplier : \n",
    "#     {Email: _, \n",
    "#      Products: {Product Supplied: Price} , ...}"
   ]
  },
  {
   "cell_type": "code",
   "execution_count": null,
   "metadata": {},
   "outputs": [],
   "source": [
    "\n"
   ]
  }
 ],
 "metadata": {
  "kernelspec": {
   "display_name": "Python 3",
   "language": "python",
   "name": "python3"
  },
  "language_info": {
   "codemirror_mode": {
    "name": "ipython",
    "version": 3
   },
   "file_extension": ".py",
   "mimetype": "text/x-python",
   "name": "python",
   "nbconvert_exporter": "python",
   "pygments_lexer": "ipython3",
   "version": "3.8.5"
  }
 },
 "nbformat": 4,
 "nbformat_minor": 4
}
