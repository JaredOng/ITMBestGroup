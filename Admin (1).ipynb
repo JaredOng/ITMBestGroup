{
 "cells": [
  {
   "cell_type": "code",
   "execution_count": 1,
   "id": "5cb8eca8",
   "metadata": {},
   "outputs": [],
   "source": [
    "admin = {\"nottheavreagejoe\":{\"password\":\"imnotjoeking\",\n",
    "                            \"first_name\": \"Joe\",\n",
    "                            \"last_name\":\"Ilagan\"},\n",
    "         \n",
    "         \"reesepeanutbuttercups\":{\"password\": \"onlyrealpeanutbutter\",\n",
    "                                 \"first_name\" :\"Reese\",\n",
    "                                 \"last_name\":\"Amores\"},\n",
    "         \n",
    "         \"jablue\":{\"password\": \"myfavecolorisred\",\n",
    "                  \"first_name\": \"Jared\",\n",
    "                  \"last_name\":\"Ong\"},\n",
    "         \n",
    "         \"uusedtocolynonmycellphone\":{\"password\": \"hotlinebling$$\", \n",
    "                                     \"first_name\": \"Colyn\", \n",
    "                                     \"last_name\": \"Ching\"}, \n",
    "         \n",
    "         \"theoneandshanlyone\": {\"password\" : \"shanisnotasheep\", \n",
    "                               \"first_name\" :\"Shan\", \n",
    "                               \"last_name\" :\"Porres\"}}"
   ]
  }
 ],
 "metadata": {
  "kernelspec": {
   "display_name": "Python 3",
   "language": "python",
   "name": "python3"
  },
  "language_info": {
   "codemirror_mode": {
    "name": "ipython",
    "version": 3
   },
   "file_extension": ".py",
   "mimetype": "text/x-python",
   "name": "python",
   "nbconvert_exporter": "python",
   "pygments_lexer": "ipython3",
   "version": "3.8.8"
  }
 },
 "nbformat": 4,
 "nbformat_minor": 5
}
