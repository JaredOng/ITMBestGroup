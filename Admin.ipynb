{
 "cells": [
  {
   "cell_type": "code",
   "execution_count": 2,
   "id": "be1ec67d",
   "metadata": {},
   "outputs": [],
   "source": [
    "admin = {\"nottheavreagejoe\": \"imnotjoeking\", \n",
    "         \"reesepeanutbuttercups\":\"onlyrealpeanutbutter\", \n",
    "         \"jablue\":\"myfavecolorisred\", \n",
    "         \"uusedtocolynonmycellphone\":\"hotlinebling$$\", \n",
    "         \"theoneandshanlyone\": \"shanisnotasheep\"   }"
   ]
  }
 ],
 "metadata": {
  "kernelspec": {
   "display_name": "Python 3",
   "language": "python",
   "name": "python3"
  },
  "language_info": {
   "codemirror_mode": {
    "name": "ipython",
    "version": 3
   },
   "file_extension": ".py",
   "mimetype": "text/x-python",
   "name": "python",
   "nbconvert_exporter": "python",
   "pygments_lexer": "ipython3",
   "version": "3.8.8"
  }
 },
 "nbformat": 4,
 "nbformat_minor": 5
}
