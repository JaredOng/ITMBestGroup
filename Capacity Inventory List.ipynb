{
 "cells": [
  {
   "cell_type": "code",
   "execution_count": null,
   "metadata": {},
   "outputs": [],
   "source": [
    "Inventory_Capacity = {\n",
    "    \"Bullhead Milk\" : 50,\n",
    "    \"Brava Biscuits\" : 80,\n",
    "    \"Mila's Chocolate Milk\" :50,\n",
    "    \"Rita Round Biscuits\" : 80,\n",
    "    \"Royal Cola\" : 20,\n",
    "    \"Mrs. Chips\" : 80,\n",
    "    \"Lucky Mo Big Noodles\" : 20,\n",
    "    \"Silver Duck Soy Sauce\" : 20,\n",
    "    \"Datu Itim Vinegar\" : 20,\n",
    "    \"Select Vanilla Ice Cream\" : 40,\n",
    "    \"Venus Chocolate Bars\" : 80,\n",
    "    \"NPA Rice\" : 20,\n",
    "    \"Beach Fabric Conditioner\" : 20,\n",
    "    \"Don Rox Bleach\" : 20,\n",
    "    \"Dairy King Ice Cream\" : 40,\n",
    "    \"Mr. Jelly Gulaman Pack\" : 20,\n",
    "    \"Magnolia Garlic Bread\" : 20,\n",
    "    \"Panteen Shampoo\" : 40,  \n",
    "    \"Col Git Toothpaste\" : 40,\n",
    "    \"Mayon Blue Salt\" : 40,\n",
    "}"
   ]
  }
 ],
 "metadata": {
  "kernelspec": {
   "display_name": "Python 3",
   "language": "python",
   "name": "python3"
  },
  "language_info": {
   "codemirror_mode": {
    "name": "ipython",
    "version": 3
   },
   "file_extension": ".py",
   "mimetype": "text/x-python",
   "name": "python",
   "nbconvert_exporter": "python",
   "pygments_lexer": "ipython3",
   "version": "3.8.5"
  }
 },
 "nbformat": 4,
 "nbformat_minor": 4
}
