{
 "cells": [
  {
   "cell_type": "code",
   "execution_count": 6,
   "id": "3b31fc52",
   "metadata": {},
   "outputs": [],
   "source": [
    "admin = {\"nottheavreagejoe\":{\"password\":\"imnotjoeking\",\n",
    "                            \"first_name\": \"Joe\",\n",
    "                            \"last_name\":\"Ilagan\"},\n",
    "         \n",
    "         \"reesepeanutbuttercups\":{\"password\": \"onlyrealpeanutbutter\",\n",
    "                                 \"first_name\" :\"Reese\",\n",
    "                                 \"last_name\":\"Amores\"},\n",
    "         \n",
    "         \"jablue\":{\"password\": \"myfavecolorisred\",\n",
    "                  \"first_name\": \"Jared\",\n",
    "                  \"last_name\":\"Ong\"},\n",
    "         \n",
    "         \"uusedtocolynonmycellphone\":{\"password\": \"hotlinebling$$\", \n",
    "                                     \"first_name\": \"Colyn\", \n",
    "                                     \"last_name\": \"Ching\"}, \n",
    "         \n",
    "         \"theoneandshanlyone\": {\"password\" : \"shanisnotasheep\", \n",
    "                               \"first_name\" :\"Shan\", \n",
    "                               \"last_name\" :\"Porres\"}}\n"
   ]
  },
  {
   "cell_type": "code",
   "execution_count": 227,
   "id": "37c8a9f2",
   "metadata": {},
   "outputs": [
    {
     "name": "stdout",
     "output_type": "stream",
     "text": [
      "Enter your username: jablue\n",
      "Enter your password: myfavecolorisred\n",
      "Login successful\n"
     ]
    }
   ],
   "source": [
    "def admin_login(): \n",
    "    user_name= input(\"Enter your username: \")\n",
    "    password= input(\"Enter your password: \")\n",
    " \n",
    "    try: \n",
    "        user_name= admin.keys()\n",
    "        \n",
    "        for i in admin:\n",
    "            \n",
    "            if password == admin.setdefault(i)[\"password\"]: \n",
    "                print(\"Login successful\")\n",
    "                break\n",
    "        \n",
    "            else:  \n",
    "                (\"username or password is invalid\")\n",
    "                continue\n",
    "\n",
    "    except: \n",
    "            print(\"username or password is invalid\")\n",
    "             \n",
    "        \n",
    "admin_login()\n",
    "\n",
    "        "
   ]
  }
 ],
 "metadata": {
  "kernelspec": {
   "display_name": "Python 3",
   "language": "python",
   "name": "python3"
  },
  "language_info": {
   "codemirror_mode": {
    "name": "ipython",
    "version": 3
   },
   "file_extension": ".py",
   "mimetype": "text/x-python",
   "name": "python",
   "nbconvert_exporter": "python",
   "pygments_lexer": "ipython3",
   "version": "3.8.8"
  }
 },
 "nbformat": 4,
 "nbformat_minor": 5
}
