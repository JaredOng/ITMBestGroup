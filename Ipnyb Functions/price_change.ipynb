{
 "cells": [
  {
   "cell_type": "code",
   "execution_count": 8,
   "source": [
    "import json\n",
    "def price_change(product,value):\n",
    "    f = open(\"Product_List.json\")\n",
    "    pdb = json.load(f)\n",
    "\n",
    "    pdb[product] = value\n",
    "\n",
    "    with open('Product_List.json',\"w\")as d:\n",
    "        json.dump(pdb,d,indent=4)\n",
    "\n",
    "price_change(\"Bullhead Milk\",2700)"
   ],
   "outputs": [],
   "metadata": {}
  }
 ],
 "metadata": {
  "orig_nbformat": 4,
  "language_info": {
   "name": "python",
   "version": "3.7.11",
   "mimetype": "text/x-python",
   "codemirror_mode": {
    "name": "ipython",
    "version": 3
   },
   "pygments_lexer": "ipython3",
   "nbconvert_exporter": "python",
   "file_extension": ".py"
  },
  "kernelspec": {
   "name": "python3",
   "display_name": "Python 3.7.11 64-bit ('myenv': conda)"
  },
  "interpreter": {
   "hash": "00bca2af0129ce580c570fb3763a438e33367b2c407c4bfbf06761b1e80f4041"
  }
 },
 "nbformat": 4,
 "nbformat_minor": 2
}