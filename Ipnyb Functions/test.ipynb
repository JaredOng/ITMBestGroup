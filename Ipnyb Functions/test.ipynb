{
 "cells": [
  {
   "cell_type": "code",
   "execution_count": 29,
   "source": [
    "import json\n",
    "\n",
    "f = open('Sales_Log.json')\n",
    "sdb = json.load(f)\n",
    "\n",
    "g = open('Purchase_Log.json')\n",
    "pdb = json.load(g)\n",
    "def subtotal_maker():\n",
    "    for i in pdb.keys():\n",
    "        for j in pdb[i]:\n",
    "            pdb[i][j]['Subtotal'] = (int(pdb[i][j][\"Quantity\"]))*(int(pdb[i][j][\"Price\"]))\n",
    "    with open('Purchase_Log.json','w') as log:\n",
    "        json.dump(pdb,log,indent=4)\n",
    "        \n",
    "subtotal_maker()"
   ],
   "outputs": [],
   "metadata": {}
  },
  {
   "cell_type": "code",
   "execution_count": null,
   "source": [],
   "outputs": [],
   "metadata": {}
  }
 ],
 "metadata": {
  "orig_nbformat": 4,
  "language_info": {
   "name": "python",
   "version": "3.7.11",
   "mimetype": "text/x-python",
   "codemirror_mode": {
    "name": "ipython",
    "version": 3
   },
   "pygments_lexer": "ipython3",
   "nbconvert_exporter": "python",
   "file_extension": ".py"
  },
  "kernelspec": {
   "name": "python3",
   "display_name": "Python 3.7.11 64-bit ('myenv': conda)"
  },
  "interpreter": {
   "hash": "00bca2af0129ce580c570fb3763a438e33367b2c407c4bfbf06761b1e80f4041"
  }
 },
 "nbformat": 4,
 "nbformat_minor": 2
}