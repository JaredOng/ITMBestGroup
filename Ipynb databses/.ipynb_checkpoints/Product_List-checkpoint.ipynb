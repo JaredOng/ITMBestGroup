{
 "cells": [
  {
   "cell_type": "code",
   "execution_count": null,
   "metadata": {},
   "outputs": [],
   "source": [
    "Product_List = { #Product Name : Selling Price\n",
    "    \"Bullhead Milk\" : 2500,\n",
    "    \"Brava Biscuits\" : 570,\n",
    "    \"Mila's Chocolate Milk\" :2500,\n",
    "    \"Rita Round Biscuits\" : 270,\n",
    "    \"Royal Cola\" : 2270,\n",
    "    \"Mrs. Chips\" : 1800,\n",
    "    \"Lucky Mo Big Noodles\" : 600,\n",
    "    \"Silver Duck Soy Sauce\" : 1300,\n",
    "    \"Datu Itim Vinegar\" : 2000,\n",
    "    \"Select Vanilla Ice Cream\" : 2500,\n",
    "    \"Venus Chocolate Bars\" : 4600,\n",
    "    \"NPA Rice\" : 750,\n",
    "    \"Beach Fabric Conditioner\" : 2500,\n",
    "    \"Don Rox Bleach\" : 4500,\n",
    "    \"Dairy King Ice Cream\" : 3700,\n",
    "    \"Mr. Jelly Gulaman Pack\" : 2500,\n",
    "    \"Magnolia Garlic Bread\" : 4500,\n",
    "    \"Panteen Shampoo\" : 650,  \n",
    "    \"Col Git Toothpaste\" : 1350,\n",
    "    \"Mayon Blue Salt\" : 2700,\n",
    "}\n"
   ]
  }
 ],
 "metadata": {
  "kernelspec": {
   "display_name": "Python 3",
   "language": "python",
   "name": "python3"
  },
  "language_info": {
   "codemirror_mode": {
    "name": "ipython",
    "version": 3
   },
   "file_extension": ".py",
   "mimetype": "text/x-python",
   "name": "python",
   "nbconvert_exporter": "python",
   "pygments_lexer": "ipython3",
   "version": "3.8.5"
  }
 },
 "nbformat": 4,
 "nbformat_minor": 2
}
