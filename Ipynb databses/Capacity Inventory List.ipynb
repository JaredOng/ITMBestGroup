{
 "cells": [
  {
   "cell_type": "code",
   "execution_count": null,
   "source": [
    "Capacity_Inventory_List = {\n",
    "    \"Bullhead Milk\" : 50,\n",
    "    \"Brava Biscuits\" : 80,\n",
    "    \"Mila's Chocolate Milk\" :50,\n",
    "    \"Rita Round Biscuits\" : 80,\n",
    "    \"Royal Cola\" : 40,\n",
    "    \"Mrs. Chips\" : 80,\n",
    "    \"Lucky Mo Big Noodles\" : 50,\n",
    "    \"Silver Duck Soy Sauce\" : 80,\n",
    "    \"Datu Itim Vinegar\" : 80,\n",
    "    \"Select Vanilla Ice Cream\" : 50,\n",
    "    \"Venus Chocolate Bars\" : 85,\n",
    "    \"NPA Rice\" : 50,\n",
    "    \"Beach Fabric Conditioner\" : 50,\n",
    "    \"Don Rox Bleach\" : 50,\n",
    "    \"Dairy King Ice Cream\" : 40,\n",
    "    \"Mr. Jelly Gulaman Pack\" : 90,\n",
    "    \"Magnolia Garlic Bread\" : 90,\n",
    "    \"Panteen Shampoo\" : 80,  \n",
    "    \"Col Git Toothpaste\" : 80,\n",
    "    \"Mayon Blue Salt\" : 80\n",
    "}"
   ],
   "outputs": [],
   "metadata": {}
  }
 ],
 "metadata": {
  "kernelspec": {
   "display_name": "Python 3",
   "language": "python",
   "name": "python3"
  },
  "language_info": {
   "codemirror_mode": {
    "name": "ipython",
    "version": 3
   },
   "file_extension": ".py",
   "mimetype": "text/x-python",
   "name": "python",
   "nbconvert_exporter": "python",
   "pygments_lexer": "ipython3",
   "version": "3.8.5"
  }
 },
 "nbformat": 4,
 "nbformat_minor": 4
}