{
 "cells": [
  {
   "cell_type": "code",
   "execution_count": 3,
   "source": [
    "Current_Inventory ={\n",
    "    \"Bullhead Milk\" : 25,\n",
    "    \"Brava Biscuits\" : 15,\n",
    "    \"Mila's Chocolate Milk\" :10,\n",
    "    \"Rita Round Biscuits\" : 22,\n",
    "    \"Royal Cola\" : 25,\n",
    "    \"Mrs. Chips\" : 15,\n",
    "    \"Lucky Mo Big Noodles\" : 20,\n",
    "    \"Silver Duck Soy Sauce\" : 24,\n",
    "    \"Datu Itim Vinegar\" : 15,\n",
    "    \"Select Vanilla Ice Cream\" : 45,\n",
    "    \"Venus Chocolate Bars\" : 23,\n",
    "    \"NPA Rice\" : 35,\n",
    "    \"Beach Fabric Conditioner\" : 30,\n",
    "    \"Don Rox Bleach\" : 15,\n",
    "    \"Dairy King Ice Cream\" : 20,\n",
    "    \"Mr. Jelly Gulaman Pack\" : 24,\n",
    "    \"Magnolia Garlic Bread\" : 15,\n",
    "    \"Panteen Shampoo\" : 12,  \n",
    "    \"Col Git Toothpaste\" : 5,\n",
    "    \"Mayon Blue Salt\" : 10,\n",
    "}"
   ],
   "outputs": [],
   "metadata": {}
  },
  {
   "cell_type": "code",
   "execution_count": null,
   "source": [],
   "outputs": [],
   "metadata": {}
  }
 ],
 "metadata": {
  "orig_nbformat": 4,
  "language_info": {
   "name": "python",
   "version": "3.7.11",
   "mimetype": "text/x-python",
   "codemirror_mode": {
    "name": "ipython",
    "version": 3
   },
   "pygments_lexer": "ipython3",
   "nbconvert_exporter": "python",
   "file_extension": ".py"
  },
  "kernelspec": {
   "name": "python3",
   "display_name": "Python 3.7.11 64-bit ('myenv': conda)"
  },
  "interpreter": {
   "hash": "00bca2af0129ce580c570fb3763a438e33367b2c407c4bfbf06761b1e80f4041"
  }
 },
 "nbformat": 4,
 "nbformat_minor": 2
}