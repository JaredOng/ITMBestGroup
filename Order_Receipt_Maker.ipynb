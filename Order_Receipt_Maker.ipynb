{
 "cells": [
  {
   "cell_type": "code",
   "execution_count": null,
   "source": [
    "#Supplier_Order_List - Dictionary containing all the content for a single supplier receipt {Supplier : \"Name\", Order : [{\"Product A\" : Quantity,}]}\n",
    "\n",
    "#def Order_Receipt_Maker(Supplier_Order_list):\n"
   ],
   "outputs": [],
   "metadata": {}
  }
 ],
 "metadata": {
  "orig_nbformat": 4,
  "language_info": {
   "name": "python"
  }
 },
 "nbformat": 4,
 "nbformat_minor": 2
}