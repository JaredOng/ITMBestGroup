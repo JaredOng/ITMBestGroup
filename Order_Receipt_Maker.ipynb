{
 "cells": [
  {
   "cell_type": "code",
   "execution_count": null,
   "source": [
    "\n",
    "\n",
    "def Order_Receipt_Maker(Receipt_Content,Type):\n",
    "    if type == \"Supplier\":\n",
    "        f = open(\"Order_Receipt.txt\",\"w\")\n",
    "        f.write(\"------------------------------\\n\") #30 Spaces\n",
    "        f.write(f\"Supplier : {Receipt_Content}\\n\")\n",
    "        f.write(f\"Email    : {Receipt_Content}\\n\")\n",
    "        f.write(\"------------------------------\\n\")\n",
    "        f.close\n",
    "        with open(\"Order_Receipt.txt\",\"a\") as f:\n",
    "            for i in Receipt_Content:\n",
    "                f.write(\"Product     QTY     SUBTOTAL\\n\")\n",
    "        f = open(\"Order_Receipt.txt\",\"a\")\n",
    "        f.write(\"------------------------------\\n\")\n",
    "        f.write(\"Total :                   Total\\n\\n\")\n",
    "\n",
    "    elif type == \"Purchase\":\n",
    "        "
   ],
   "outputs": [],
   "metadata": {}
  }
 ],
 "metadata": {
  "orig_nbformat": 4,
  "language_info": {
   "name": "python"
  }
 },
 "nbformat": 4,
 "nbformat_minor": 2
}