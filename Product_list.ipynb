{
 "cells": [
  {
   "cell_type": "code",
   "execution_count": null,
   "source": [
    "Product_List = {\n",
    "    \"Bullhead Milk 50x250ml\" : 2000,\n",
    "    \"Brava Biscuits 200x300g\" : 500,\n",
    "    \"Mila's Chocolate Milk 20x250ml\" :2300,\n",
    "    \"Rita Round Biscuits 75x50g\" : 250,\n",
    "    \"Royal Cola 50x50ml\" : 2150,\n",
    "    \"Mrs. Chips 75x200g\" : 1500,\n",
    "    \"Lucky Mo Big Noodles 100x35g\" : 500,\n",
    "    \"Silver Duck Soy Sauce 40x300ml\" : 1250,\n",
    "    \"Datu Itim Vinegar 50x300ml\" : 1750,\n",
    "    \"Select Vanilla Ice Cream 30x500ml\" : 2000,\n",
    "    \"Venus Chocolate Bars 50x200ml\" : 4000,\n",
    "    \"NPA Rice 50kg\" : 567,\n",
    "    \"Beach Fabric Conditioner 200x45g\" : 2356,\n",
    "    \"Don Rox Bleach 45x500ml\" : 4200,\n",
    "    \"Dairy King Ice Cream 200x50ml\" : 3200,\n",
    "    \"Mr. Jelly Gulaman Pack 24x75g\" : 2100,\n",
    "    \"Magnolia Garlic Bread 50x500ml\" : 4231,\n",
    "    \"Panteen Shampoo 50x200ml\" : 450,  \n",
    "    \"Col Git Toothpaste 50x75ml\" : 1240,\n",
    "    \"Mayon Blue Salt 25kg\" : 2300,\n",
    "}"
   ],
   "outputs": [],
   "metadata": {}
  }
 ],
 "metadata": {
  "orig_nbformat": 4,
  "language_info": {
   "name": "python"
  }
 },
 "nbformat": 4,
 "nbformat_minor": 2
}