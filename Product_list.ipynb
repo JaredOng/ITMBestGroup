{
 "cells": [
  {
   "cell_type": "code",
   "execution_count": null,
   "source": [
    "Product_List = {\n",
    "    \"Bullhead Milk\" : 2000,\n",
    "    \"Brava Biscuits\" : 500,\n",
    "    \"Mila's Chocolate Milk\" :2300,\n",
    "    \"Rita Round Biscuits\" : 250,\n",
    "    \"Royal Cola\" : 2150,\n",
    "    \"Mrs. Chips\" : 1500,\n",
    "    \"Lucky Mo Big Noodles\" : 500,\n",
    "    \"Silver Duck Soy Sauce\" : 1250,\n",
    "    \"Datu Itim Vinegar\" : 1750,\n",
    "    \"Select Vanilla Ice Cream\" : 2000,\n",
    "    \"Venus Chocolate Bars\" : 4000,\n",
    "    \"NPA Rice\" : 567,\n",
    "    \"Beach Fabric Conditioner\" : 2356,\n",
    "    \"Don Rox Bleach\" : 4200,\n",
    "    \"Dairy King Ice Cream\" : 3200,\n",
    "    \"Mr. Jelly Gulaman Pack\" : 2100,\n",
    "    \"Magnolia Garlic Bread\" : 4231,\n",
    "    \"Panteen Shampoo\" : 450,  \n",
    "    \"Col Git Toothpaste\" : 1240,\n",
    "    \"Mayon Blue Salt\" : 2300,\n",
    "}"
   ],
   "outputs": [],
   "metadata": {}
  }
 ],
 "metadata": {
  "orig_nbformat": 4,
  "language_info": {
   "name": "python"
  }
 },
 "nbformat": 4,
 "nbformat_minor": 2
}