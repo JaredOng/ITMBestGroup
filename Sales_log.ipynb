{
 "cells": [
  {
   "cell_type": "code",
   "execution_count": 66,
   "id": "e351bff3",
   "metadata": {},
   "outputs": [],
   "source": [
    "sales_log={}\n",
    "#FUNCTION: Input for the Sales (Date, Product, Amount) - customer order entry\n"
   ]
  },
  {
   "cell_type": "code",
   "execution_count": 67,
   "id": "e05943cf",
   "metadata": {},
   "outputs": [
    {
     "name": "stdout",
     "output_type": "stream",
     "text": [
      "Input date: 08/02/2021\n",
      "Input product name: NPA Rice\n",
      "Enter quantity: 2\n",
      "Enter price: 567\n",
      "Do you have additional order? (Yes/No): Yes\n",
      "Input date: 08/02/2021\n",
      "Input product name: NPA Rice\n",
      "Enter quantity: 8\n",
      "Enter price: 567\n",
      "Do you have additional order? (Yes/No): No\n"
     ]
    }
   ],
   "source": [
    "def input_sales():\n",
    "    addtl_order=\"\"\n",
    "    while addtl_order !=\"No\":\n",
    "        date = input(\"Input date: \")\n",
    "        product_name = input (\"Input product name: \")\n",
    "        qty = int(input(\"Enter quantity: \"))\n",
    "        price = int(input(\"Enter price: \"))\n",
    "        if date not in sales_log:\n",
    "            sales_log[date]={product_name:{\"Quantity\": qty,\"Price\": price}}\n",
    "        else:\n",
    "            if product_name not in sales_log[date]:\n",
    "                sales_log[date][product_name]={\"Quantity\": qty,\"Price\": price}\n",
    "            elif product_name in sales_log[date]:\n",
    "                qty = qty + sales_log[date][product_name][\"Quantity\"]\n",
    "                sales_log[date][product_name]={\"Quantity\": qty,\"Price\": price}\n",
    "        addtl_order = input(\"Do you have additional order? (Yes/No): \")\n",
    "    \n",
    "input_sales()"
   ]
  },
  {
   "cell_type": "code",
   "execution_count": 69,
   "id": "e493d054",
   "metadata": {},
   "outputs": [
    {
     "data": {
      "text/plain": [
       "{'08/02/2021': {'NPA Rice': {'Quantity': 10, 'Price': 567}}}"
      ]
     },
     "execution_count": 69,
     "metadata": {},
     "output_type": "execute_result"
    }
   ],
   "source": [
    "sales_log"
   ]
  },
  {
   "cell_type": "code",
   "execution_count": null,
   "id": "c8a20e8b",
   "metadata": {},
   "outputs": [],
   "source": []
  }
 ],
 "metadata": {
  "kernelspec": {
   "display_name": "Python 3",
   "language": "python",
   "name": "python3"
  },
  "language_info": {
   "codemirror_mode": {
    "name": "ipython",
    "version": 3
   },
   "file_extension": ".py",
   "mimetype": "text/x-python",
   "name": "python",
   "nbconvert_exporter": "python",
   "pygments_lexer": "ipython3",
   "version": "3.8.8"
  }
 },
 "nbformat": 4,
 "nbformat_minor": 5
}
