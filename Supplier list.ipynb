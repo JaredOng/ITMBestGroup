{
 "cells": [
  {
   "cell_type": "code",
   "execution_count": 1,
   "metadata": {},
   "outputs": [
    {
     "ename": "SyntaxError",
     "evalue": "invalid syntax (<ipython-input-1-29b20a6554ef>, line 11)",
     "output_type": "error",
     "traceback": [
      "\u001b[1;36m  File \u001b[1;32m\"<ipython-input-1-29b20a6554ef>\"\u001b[1;36m, line \u001b[1;32m11\u001b[0m\n\u001b[1;33m    \"Products\":}}\u001b[0m\n\u001b[1;37m               ^\u001b[0m\n\u001b[1;31mSyntaxError\u001b[0m\u001b[1;31m:\u001b[0m invalid syntax\n"
     ]
    }
   ],
   "source": [
    "Supplier_Database = {\n",
    "    \n",
    "# Jared's Carriage\n",
    "# Shan's Shampoo\n",
    "# Colyn's Cola\n",
    "# Reese's Milk and cheese retail\n",
    "    \n",
    "{\n",
    "    \"Jared's Carriage Retail\": \n",
    "        {\"Email\": \"jared@jaredretail.com\", \n",
    "            \"Products_CostsPHP\":{ \n",
    "                \"Lucky Mo Big Noodles\": 325,\n",
    "                \"Venus Chocolate Bars\": 2600,\n",
    "                \"Magnolia Garlic Bread\": 2750.15,\n",
    "                \"NPA Rice\": 368.55\n",
    "        }},\n",
    "    \"Shan's Shampoo\":\n",
    "        {\"Email\": \"shan@shanpoo.com\", \n",
    "            \"Products_CostsPHP\":{ \n",
    "                \"Beach Fabric Conditioner\": 1351.4,\n",
    "                \"Don Rox Bleach\": 2730,\n",
    "                \"Panteen Shampoo\": 292.5,\n",
    "                \"Col Git Toothpaste\": 806\n",
    "        }},\n",
    "    \"Colyn's Cola\":\n",
    "    {\"Email\": \"colyn@colyncola.com\", \n",
    "        \"Products_CostsPHP\":{ \n",
    "            \"Mrs. Chips\" : 1500,\n",
    "            \"Brava Biscuits\": 325 ,\n",
    "            \"Rita Round Biscuits\": 162.5,\n",
    "            \"Royal Cola\": 1397.5  \n",
    "        }},\n",
    "    \"Reese's Milk and Cheese retail\":\n",
    "    {\"Email\": \"reese@reesecheese.com\", \n",
    "        \"Products_CostsPHP\":{ \n",
    "            \"Bullhead Milk\": 1300 ,\n",
    "            \"Mila’s Chocolate Milk\": 1495 ,\n",
    "            \"Select Vanilla Ice Cream\": 1300,\n",
    "            \"Dairy King Ice Cream\": 2080,\n",
    "            \"Mr. Jelly Gulaman Pack\": 1365\n",
    "        }},\n",
    "    \"Os' Sauce and salts\":\n",
    "    {\"Email\": \"os@ossauce.com\", \n",
    "    \"Products_CostsPHP\":{ \n",
    "        \"Silver Duck Soy Sauce\": 812.5 ,\n",
    "        \"Datu Itim Vinegar\": 1137.5 ,\n",
    "        \"Mayon Blue Salt\": 1495\n",
    "    }},\n",
    "    \n",
    "    \n",
    "}\n",
    "    \n",
    "\n",
    "# Bullhead Milk: 1300 //\n",
    "# Brava Biscuits: 325 //\n",
    "# Mila’s Chocolate Milk: 1495//\n",
    "# Rita Round Biscuits: 162.5//\n",
    "# Royal Cola: 1397.5//\n",
    "# Mrs. Chips: 975//\n",
    "# \"Lucky Mo Big Noodles\": 325 //\n",
    "# Silver Duck Soy Sauce: 812.5//\n",
    "# Datu Itim Vinegar: 1137.5//\n",
    "# Select Vanilla Ice Cream: 1300//\n",
    "# Venus Chocolate Bars: 2600//\n",
    "# NPA Rice: 368.55//\n",
    "# Beach Fabric Conditioner: 1351.4 // \n",
    "# Don Rox Bleach: 2730 //\n",
    "# Dairy King Ice Cream: 2080//\n",
    "# Mr. Jelly Gulaman Pack: 1365//\n",
    "#  Magnolia Garlic Bread: 2750.15//\n",
    "# Panteen Shampoo: 292.5 //\n",
    "# Col Git Toothpaste: 806 //\n",
    "# Mayon Blue Salt: 1495//\n",
    "\n",
    "\n",
    "# {Name of Supplier : \n",
    "#     {Email: _, \n",
    "#      Products: {Product Supplied: Price} , ...}"
   ]
  },
  {
   "cell_type": "code",
   "execution_count": null,
   "metadata": {},
   "outputs": [],
   "source": [
    "\n"
   ]
  }
 ],
 "metadata": {
  "kernelspec": {
   "display_name": "Python 3",
   "language": "python",
   "name": "python3"
  },
  "language_info": {
   "codemirror_mode": {
    "name": "ipython",
    "version": 3
   },
   "file_extension": ".py",
   "mimetype": "text/x-python",
   "name": "python",
   "nbconvert_exporter": "python",
   "pygments_lexer": "ipython3",
   "version": "3.8.5"
  }
 },
 "nbformat": 4,
 "nbformat_minor": 4
}
