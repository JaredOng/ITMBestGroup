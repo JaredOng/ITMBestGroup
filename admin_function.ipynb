{
 "cells": [
  {
   "cell_type": "code",
   "execution_count": 1,
   "id": "3b31fc52",
   "metadata": {},
   "outputs": [],
   "source": [
    "admin = {\"nottheavreagejoe\": \"imnotjoeking\", \n",
    "         \"reesepeanutbuttercups\":\"onlyrealpeanutbutter\", \n",
    "         \"jablue\":\"myfavecolorisred\", \n",
    "         \"uusedtocolynonmycellphone\":\"hotlinebling$$\", \n",
    "         \"theoneandshanlyone\": \"shanisnotasheep\"   }\n"
   ]
  },
  {
   "cell_type": "code",
   "execution_count": 5,
   "id": "37c8a9f2",
   "metadata": {},
   "outputs": [
    {
     "name": "stdout",
     "output_type": "stream",
     "text": [
      "Enter your username: uusedtocolynonmycellphone\n",
      "Enter your password: hotlinebling$$\n"
     ]
    }
   ],
   "source": [
    "def admin_login(): \n",
    "    user_name= input(\"Enter your username: \")\n",
    "    password= input(\"Enter your password: \")\n",
    "    try: \n",
    "        user_name=admin.keys()\n",
    "        password=admin.values()\n",
    "        \n",
    "    except: \n",
    "        print(\"username or password is invalid.\")\n",
    "\n",
    "admin_login()\n",
    "\n",
    "        "
   ]
  }
 ],
 "metadata": {
  "kernelspec": {
   "display_name": "Python 3",
   "language": "python",
   "name": "python3"
  },
  "language_info": {
   "codemirror_mode": {
    "name": "ipython",
    "version": 3
   },
   "file_extension": ".py",
   "mimetype": "text/x-python",
   "name": "python",
   "nbconvert_exporter": "python",
   "pygments_lexer": "ipython3",
   "version": "3.8.8"
  }
 },
 "nbformat": 4,
 "nbformat_minor": 5
}
