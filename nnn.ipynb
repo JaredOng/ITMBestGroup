{
 "cells": [
  {
   "cell_type": "code",
   "execution_count": 3,
   "source": [
    "#Guide to Receipt Content:\n",
    "# Receipt Content - a temp dict to hold the content of the receipts\n",
    "# Purchase Receipt Content Format:\n",
    "#{\n",
    "#    \"kind\":\"Purchase\",\n",
    "#    \"Supplier\":\"{NAME_OF_SUPPLIER}\",\n",
    "#    \"Order\":{\n",
    "#        \"{PRODUCT_NAME}\":{PRODUCT_QTY}\n",
    "#    }\n",
    "#}\n",
    "#Sales Receipt Content Format:\n",
    "#{\n",
    "#    \"kind\":\"Sales\",\n",
    "#    \"Order\":{\n",
    "#        \"{PRODUCT_NAME}\":{PRODUCT_QTY}\n",
    "#    }\n",
    "#}\n",
    "\n",
    "import json\n",
    "from datetime import date\n",
    "\n",
    "#Receipt Maker Def\n",
    "def Receipt_Maker():\n",
    "\n",
    "    #Supplier Database\n",
    "    g = open(\"worksmarter/Databases/Supplier_Database.json\")\n",
    "    sdb = json.load(g)\n",
    "\n",
    "    #Product List\n",
    "    n = open('worksmarter/Databases/Product_List.json')\n",
    "    pdb = json.load(n)\n",
    "\n",
    "    #Purchase Receipt Content\n",
    "    m = open('worksmarter/Databases/Purchase_Receipt_Content.json')\n",
    "    prdb = json.load(m)\n",
    "    #Sales Receipt Content\n",
    "    p = open('worksmarter/Databases/Sales_Receipt_Content.json')\n",
    "    srdb = json.load(p)\n",
    "\n",
    "    #General Functions\n",
    "    Total = 0\n",
    "    today = date.today()\n",
    "    today = today.strftime(\"%m-%d-%y\")\n",
    "\n",
    "    #Purchase Receipt\n",
    "        #Header\n",
    "    f = open(f\"worksmarter/Receipts_Folder/Purchase Receipts/{today}_{prdb['Supplier']}_Purchase_Receipt.txt\",\"w\")\n",
    "    f.write(\"---------------------------------------------\\n\") #40 Spaces\n",
    "    f.write(f\"Supplier :     {prdb['Supplier']}\\n\")\n",
    "    f.write(f\"Email    :     {sdb[prdb['Supplier']]['Email']}\\n\")\n",
    "    f.write(f\"Date     :     {today}\\n\")\n",
    "    f.write(\"---------------------------------------------\")\n",
    "    f.write(\"\\n\")\n",
    "    f.close\n",
    "\n",
    "        #Body\n",
    "    with open(f\"worksmarter/Receipts_Folder/Purchase Receipts/{today}_{prdb['Supplier']}_Purchase_Receipt.txt\",\"a\") as f:\n",
    "        for i in prdb['Order'].keys():\n",
    "            Product = i\n",
    "            Qty = str(prdb[\"Order\"][i])\n",
    "            Subtotal = str(int(Qty) * sdb[prdb['Supplier']]['Products_CostsPHP'][Product])\n",
    "            Total += int(Subtotal)\n",
    "            while len(Product) < (31-len(Qty)):\n",
    "                Product += \" \"\n",
    "            if len(Qty) == 1:\n",
    "                Qty = \"0\" + Qty\n",
    "            while len(str(Qty)) < (10-len(Subtotal)):\n",
    "                Qty += \" \"\n",
    "            f.write(f\"{Product}\\t{Qty}\\t{Subtotal}\\n\")\n",
    "\n",
    "        #Footer\n",
    "    f = open(f\"worksmarter/Receipts_Folder/Purchase Receipts/{today}_{prdb['Supplier']}_Purchase_Receipt.txt\",\"a\")\n",
    "    f.write(\"---------------------------------------------\\n\")\n",
    "    Last_Line = \"Total    :\"\n",
    "    while len(Last_Line)< (45-len(str(Total))):\n",
    "        Last_Line += \" \"\n",
    "    f.write(f\"{Last_Line}{Total}\")\n",
    "\n",
    "    Total=0\n",
    "        #Header\n",
    "    g = open(f\"worksmarter/Receipts_Folder/Sales Receipts/{today}_Sales_Receipt.txt\",\"w\")\n",
    "    g.write(\"---------------------------------------------\\n\") #40 Spaces\n",
    "    g.write(f\"Date     :     {today}\\n\")\n",
    "    g.write(\"---------------------------------------------\")\n",
    "    g.write(\"\\n\")\n",
    "    g.close\n",
    "\n",
    "        #Body\n",
    "    with open(f\"worksmarter/Receipts_Folder/Sales Receipts/{today}_Sales_Receipt.txt\",\"a\") as g:\n",
    "        for i in srdb['Order'].keys():\n",
    "            Product = i\n",
    "            Qty = str(srdb[\"Order\"][i])\n",
    "            Subtotal = str(int(Qty) * pdb[i])\n",
    "            Total += int(Subtotal)\n",
    "            while len(Product) < (31-len(Qty)):\n",
    "                Product += \" \"\n",
    "            if len(Qty) == 1:\n",
    "                Qty = \"0\" + Qty\n",
    "            while len(str(Qty)) < (10-len(Subtotal)):\n",
    "                Qty += \" \"\n",
    "            g.write(f\"{Product}\\t{Qty}\\t{Subtotal}\\n\")\n",
    "\n",
    "        #Footer\n",
    "    g = open(f\"worksmarter/Receipts_Folder/Sales Receipts/{today}_Sales_Receipt.txt\",\"a\")\n",
    "    g.write(\"---------------------------------------------\\n\")\n",
    "    Last_Line = \"Total    :\"\n",
    "    while len(Last_Line)< (45-len(str(Total))):\n",
    "        Last_Line += \" \"\n",
    "    g.write(f\"{Last_Line}{Total}\")\n",
    "\n",
    "Receipt_Maker()\n"
   ],
   "outputs": [],
   "metadata": {}
  },
  {
   "cell_type": "code",
   "execution_count": 8,
   "source": [
    "m ={\n",
    "    \"07-29-2021\": {\n",
    "        \"Brava Biscuits\": {\n",
    "            \"Quantity\": 1,\n",
    "            \"Price\": 570,\n",
    "            \"Subtotal\": 570\n",
    "        },\n",
    "        \"Select Vanilla Ice Cream\": {\n",
    "            \"Quantity\": 1,\n",
    "            \"Price\": 2500,\n",
    "            \"Subtotal\": 2500\n",
    "        },\n",
    "        \"Datu Itim Vinegar\": {\n",
    "            \"Quantity\": 1,\n",
    "            \"Price\": 2000,\n",
    "            \"Subtotal\": 2000\n",
    "        },\n",
    "        \"Mrs. Chips\": {\n",
    "            \"Quantity\": 1,\n",
    "            \"Price\": 1800,\n",
    "            \"Subtotal\": 1800\n",
    "        },\n",
    "        \"Bullhead Milk\": {\n",
    "            \"Quantity\": 3,\n",
    "            \"Price\": 2500,\n",
    "            \"Subtotal\": 7500\n",
    "        }\n",
    "    }\n",
    "}\n",
    "for i in m[\"07-29-2021\"].keys():\n",
    "    print(i)"
   ],
   "outputs": [
    {
     "output_type": "stream",
     "name": "stdout",
     "text": [
      "Brava Biscuits\n",
      "Select Vanilla Ice Cream\n",
      "Datu Itim Vinegar\n",
      "Mrs. Chips\n",
      "Bullhead Milk\n"
     ]
    }
   ],
   "metadata": {}
  },
  {
   "cell_type": "code",
   "execution_count": null,
   "source": [
    "p = open(\"Databases/Sales_Receipt_Content.json\")\n",
    "sr_content = json.load(p)\n",
    "\n",
    "def add_sr_content(date,product_name,qty):\n",
    "    if date == sr_content[\"date\"]:\n",
    "        sr_content[\"Order\"][product_name]=qty\n",
    "    elif date != sr_content[\"date\"]:\n",
    "        sr_content[\"date\"]=date\n",
    "        sr_content[\"Order\"]={}\n",
    "        sr_content[\"Order\"][product_name]=qty\n",
    "\n",
    "    with open(\"Databases/Sales_Receipt_Content.json\",\"w\") as src:\n",
    "        json.dump(sr_content,src,indent=4)"
   ],
   "outputs": [],
   "metadata": {}
  },
  {
   "cell_type": "code",
   "execution_count": 10,
   "source": [
    "f = {\n",
    "    \"Jared's Carriage Retail\": {\n",
    "        \"Email\": \"jared@jaredretail.com\",\n",
    "        \"Products_CostsPHP\": {\n",
    "            \"Lucky Mo Big Noodles\": 500,\n",
    "            \"Venus Chocolate Bars\": 4000,\n",
    "            \"Magnolia Garlic Bread\": 4231,\n",
    "            \"NPA Rice\": 750\n",
    "        }\n",
    "    },\n",
    "    \"Shan's Shampoo\": {\n",
    "        \"Email\": \"shan@shanpoo.com\",\n",
    "        \"Products_CostsPHP\": {\n",
    "            \"Beach Fabric Conditioner\": 2356,\n",
    "            \"Don Rox Bleach\": 4200,\n",
    "            \"Panteen Shampoo\": 450,\n",
    "            \"Col Git Toothpaste\": 1240\n",
    "        }\n",
    "    },\n",
    "    \"Colyn's Cola\": {\n",
    "        \"Email\": \"colyn@colyncola.com\",\n",
    "        \"Products_CostsPHP\": {\n",
    "            \"Mrs. Chips\": 1500,\n",
    "            \"Brava Biscuits\": 500,\n",
    "            \"Rita Round Biscuits\": 250,\n",
    "            \"Royal Cola\": 2150\n",
    "        }\n",
    "    },\n",
    "    \"Reese's Milk and Cheese retail\": {\n",
    "        \"Email\": \"reese@reesecheese.com\",\n",
    "        \"Products_CostsPHP\": {\n",
    "            \"Bullhead Milk\": 2000,\n",
    "            \"Mila's Chocolate Milk\": 2300,\n",
    "            \"Select Vanilla Ice Cream\": 2000,\n",
    "            \"Dairy King Ice Cream\": 3200,\n",
    "            \"Mr. Jelly Gulaman Pack\": 2100\n",
    "        }\n",
    "    },\n",
    "    \"Os' Sauce and salts\": {\n",
    "        \"Email\": \"os@ossauce.com\",\n",
    "        \"Products_CostsPHP\": {\n",
    "            \"Silver Duck Soy Sauce\": 1250,\n",
    "            \"Datu Itim Vinegar\": 1750,\n",
    "            \"Mayon Blue Salt\": 2300\n",
    "        }\n",
    "    }\n",
    "}\n",
    "f[\"Colyn's Cola\"][\"Products_CostsPHP\"].keys()"
   ],
   "outputs": [
    {
     "output_type": "execute_result",
     "data": {
      "text/plain": [
       "dict_keys(['Mrs. Chips', 'Brava Biscuits', 'Rita Round Biscuits', 'Royal Cola'])"
      ]
     },
     "metadata": {},
     "execution_count": 10
    }
   ],
   "metadata": {}
  },
  {
   "cell_type": "code",
   "execution_count": 14,
   "source": [
    "f = [{'word':1}]\n",
    "g = 'words'\n",
    "for i in \n",
    " i in f[0] in g:"
   ],
   "outputs": [
    {
     "output_type": "error",
     "ename": "NameError",
     "evalue": "name 'i' is not defined",
     "traceback": [
      "\u001b[0;31m---------------------------------------------------------------------------\u001b[0m",
      "\u001b[0;31mNameError\u001b[0m                                 Traceback (most recent call last)",
      "\u001b[0;32m<ipython-input-14-cb4410428b16>\u001b[0m in \u001b[0;36m<module>\u001b[0;34m\u001b[0m\n\u001b[1;32m      1\u001b[0m \u001b[0mf\u001b[0m \u001b[0;34m=\u001b[0m \u001b[0;34m[\u001b[0m\u001b[0;34m{\u001b[0m\u001b[0;34m'word'\u001b[0m\u001b[0;34m:\u001b[0m\u001b[0;36m1\u001b[0m\u001b[0;34m}\u001b[0m\u001b[0;34m]\u001b[0m\u001b[0;34m\u001b[0m\u001b[0;34m\u001b[0m\u001b[0m\n\u001b[1;32m      2\u001b[0m \u001b[0mg\u001b[0m \u001b[0;34m=\u001b[0m \u001b[0;34m'words'\u001b[0m\u001b[0;34m\u001b[0m\u001b[0;34m\u001b[0m\u001b[0m\n\u001b[0;32m----> 3\u001b[0;31m \u001b[0;32mif\u001b[0m \u001b[0mi\u001b[0m \u001b[0;32min\u001b[0m \u001b[0mf\u001b[0m\u001b[0;34m[\u001b[0m\u001b[0;36m0\u001b[0m\u001b[0;34m]\u001b[0m\u001b[0;34m.\u001b[0m\u001b[0mkeys\u001b[0m\u001b[0;34m(\u001b[0m\u001b[0;34m)\u001b[0m \u001b[0;32min\u001b[0m \u001b[0mg\u001b[0m\u001b[0;34m:\u001b[0m\u001b[0;34m\u001b[0m\u001b[0;34m\u001b[0m\u001b[0m\n\u001b[0m\u001b[1;32m      4\u001b[0m     \u001b[0mprint\u001b[0m\u001b[0;34m(\u001b[0m\u001b[0;32mTrue\u001b[0m\u001b[0;34m)\u001b[0m\u001b[0;34m\u001b[0m\u001b[0;34m\u001b[0m\u001b[0m\n",
      "\u001b[0;31mNameError\u001b[0m: name 'i' is not defined"
     ]
    }
   ],
   "metadata": {}
  },
  {
   "cell_type": "code",
   "execution_count": 54,
   "source": [
    "import json\n",
    "to = [\n",
    "    [\n",
    "        {\n",
    "            \"product\": \"Brava Biscuits\",\n",
    "            \"quantity\": 31\n",
    "        },\n",
    "        {\n",
    "            \"product\": \"Mila's Chocolate Milk\",\n",
    "            \"quantity\": 4\n",
    "        },\n",
    "        {\n",
    "            \"product\": \"Rita Round Biscuits\",\n",
    "            \"quantity\": 19\n",
    "        },\n",
    "        {\n",
    "            \"product\": \"Royal Cola\",\n",
    "            \"quantity\": 10\n",
    "        },\n",
    "        {\n",
    "            \"product\": \"Mrs. Chips\",\n",
    "            \"quantity\": 23\n",
    "        },\n",
    "        {\n",
    "            \"product\": \"Datu Itim Vinegar\",\n",
    "            \"quantity\": 15\n",
    "        },\n",
    "        {\n",
    "            \"product\": \"Dairy King Ice Cream\",\n",
    "            \"quantity\": 26\n",
    "        },\n",
    "        {\n",
    "            \"product\": \"Panteen Shampoo\",\n",
    "            \"quantity\": 22\n",
    "        },\n",
    "        {\n",
    "            \"product\": \"Col Git Toothpaste\",\n",
    "            \"quantity\": 59\n",
    "        },\n",
    "        {\n",
    "            \"product\": \"Mayon Blue Salt\",\n",
    "            \"quantity\": 27\n",
    "        }\n",
    "    ]\n",
    "]\n",
    "to = to[0]\n",
    "\n",
    "e = open('worksmarter/Databases/Supplier_Database.json')\n",
    "e = json.load(e)"
   ],
   "outputs": [],
   "metadata": {}
  },
  {
   "cell_type": "code",
   "execution_count": 66,
   "source": [
    "a ={}\n",
    "b= {}\n",
    "c ={}\n",
    "g = {}\n",
    "h = {}\n",
    "for i in range(0,len(to)): #checks which product in the to list\n",
    "        j = to[i]['product']\n",
    "        if j in e[\"Jared's Carriage Retail\"][\"Products_CostsPHP\"].keys():\n",
    "                a[j] = to[i]['quantity']\n",
    "        elif j in e[\"Shan's Shampoo\"][\"Products_CostsPHP\"].keys():\n",
    "                b[j] = to[i]['quantity']\n",
    "        elif j in e[\"Colyn's Cola\"][\"Products_CostsPHP\"].keys():\n",
    "                    c[j] = to[i]['quantity']\n",
    "        elif j in e[\"Reese's Milk and Cheese retail\"][\"Products_CostsPHP\"].keys():\n",
    "                g[j] = to[i]['quantity']\n",
    "        elif j in e[\"Os' Sauce and salts\"][\"Products_CostsPHP\"].keys():\n",
    "                h[j] = to[i]['quantity']"
   ],
   "outputs": [],
   "metadata": {}
  },
  {
   "cell_type": "code",
   "execution_count": 69,
   "source": [],
   "outputs": [
    {
     "output_type": "execute_result",
     "data": {
      "text/plain": [
       "{'Panteen Shampoo': 22, 'Col Git Toothpaste': 59}"
      ]
     },
     "metadata": {},
     "execution_count": 69
    }
   ],
   "metadata": {}
  },
  {
   "cell_type": "code",
   "execution_count": 70,
   "source": [
    "prdb = {\n",
    "    \"08-07-2021\": {\n",
    "        \"Panteen Shampoo\": 22,\n",
    "        \"Col Git Toothpaste\": 59\n",
    "    }\n",
    "}"
   ],
   "outputs": [],
   "metadata": {}
  },
  {
   "cell_type": "code",
   "execution_count": 75,
   "source": [
    "import json\n",
    "g = open(\"worksmarter/Databases/Supplier_Database.json\")\n",
    "\n",
    "sdb = json.load(g)\n",
    "for i in prdb['08-07-2021'].keys():\n",
    "    if i  in sdb[\"Jared's Carriage Retail\"]['Products_CostsPHP'].keys():\n",
    "        supplier = \"Jared's Carriage Retail\"\n",
    "    elif i in sdb[\"Shan's Shampoo\"]['Products_CostsPHP'].keys():\n",
    "        supplier = \"Shan's Shampoo\"\n",
    "    elif i in sdb[\"Shan's Shampoo\"]['Products_CostsPHP'].keys():\n",
    "        supplier = \"Shan's Shampoo\"\n",
    "    elif i in sdb[\"Colyn's Cola\"]['Products_CostsPHP'].keys():\n",
    "        supplier = \"Colyn's Cola\"\n",
    "    elif i in sdb[\"Os' Sauce and salts\"]['Products_CostsPHP'].keys():\n",
    "        supplier = \"Os' Sauce and salts\"\n",
    "    elif i in sdb[\"Reese's Milk and Cheese retail\"]['Products_CostsPHP'].keys():\n",
    "        supplier = \"Reese's Milk and Cheese retail\""
   ],
   "outputs": [],
   "metadata": {}
  },
  {
   "cell_type": "code",
   "execution_count": 76,
   "source": [
    "supplier"
   ],
   "outputs": [
    {
     "output_type": "execute_result",
     "data": {
      "text/plain": [
       "\"Shan's Shampoo\""
      ]
     },
     "metadata": {},
     "execution_count": 76
    }
   ],
   "metadata": {}
  },
  {
   "cell_type": "code",
   "execution_count": null,
   "source": [],
   "outputs": [],
   "metadata": {}
  }
 ],
 "metadata": {
  "orig_nbformat": 4,
  "language_info": {
   "name": "python",
   "version": "3.7.11",
   "mimetype": "text/x-python",
   "codemirror_mode": {
    "name": "ipython",
    "version": 3
   },
   "pygments_lexer": "ipython3",
   "nbconvert_exporter": "python",
   "file_extension": ".py"
  },
  "kernelspec": {
   "name": "python3",
   "display_name": "Python 3.7.11 64-bit ('myenv': conda)"
  },
  "interpreter": {
   "hash": "00bca2af0129ce580c570fb3763a438e33367b2c407c4bfbf06761b1e80f4041"
  }
 },
 "nbformat": 4,
 "nbformat_minor": 2
}