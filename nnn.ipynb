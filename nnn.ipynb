{
 "cells": [
  {
   "cell_type": "code",
   "execution_count": 4,
   "source": [
    "import os,sys\n",
    "path = os.getcwd()+\"/worksmarter/Receipts_Folder/Purchase Receipts\"\n",
    "list_of_files = {}\n",
    "\n",
    "for filename in os.listdir(path):\n",
    "    list_of_files[filename] = \"http://yourpath.com/\"+filename\n",
    "list_of_files"
   ],
   "outputs": [
    {
     "output_type": "execute_result",
     "data": {
      "text/plain": [
       "{\"07-31-21_Reese's Milk and Cheese retail_Purchase_Receipt.txt\": \"http://yourpath.com/07-31-21_Reese's Milk and Cheese retail_Purchase_Receipt.txt\",\n",
       " \"07-31-21_Colyn's Cola_Purchase_Receipt.txt\": \"http://yourpath.com/07-31-21_Colyn's Cola_Purchase_Receipt.txt\",\n",
       " \"07-31-21_Shan's Shampoo_Purchase_Receipt.txt\": \"http://yourpath.com/07-31-21_Shan's Shampoo_Purchase_Receipt.txt\",\n",
       " \"07-31-21_Jared's Carriage Retail_Purchase_Receipt.txt\": \"http://yourpath.com/07-31-21_Jared's Carriage Retail_Purchase_Receipt.txt\",\n",
       " \"07-31-21_Os' Sauce and salts_Purchase_Receipt.txt\": \"http://yourpath.com/07-31-21_Os' Sauce and salts_Purchase_Receipt.txt\"}"
      ]
     },
     "metadata": {},
     "execution_count": 4
    }
   ],
   "metadata": {}
  },
  {
   "cell_type": "code",
   "execution_count": 6,
   "source": [
    "pd=os.listdir('worksmarter/Receipts_Folder/Purchase Receipts')"
   ],
   "outputs": [],
   "metadata": {}
  },
  {
   "cell_type": "code",
   "execution_count": 19,
   "source": [
    "with open(f\"worksmarter/Receipts_Folder/Purchase Receipts/{pd[1]}\",\"r\") as f:\n",
    "    lines = f.read()\n",
    "    print(lines)"
   ],
   "outputs": [
    {
     "output_type": "stream",
     "name": "stdout",
     "text": [
      "---------------------------------------------\n",
      "Supplier :     Colyn's Cola\n",
      "Email    :     colyn@colyncola.com\n",
      "Date     :     07-31-21\n",
      "---------------------------------------------\n",
      "Brava Biscuits                \t06    \t3000\n",
      "Mrs. Chips                    \t06    \t9000\n",
      "Rita Round Biscuits           \t03     \t750\n",
      "Royal Cola                    \t06   \t12900\n",
      "---------------------------------------------\n",
      "Total    :                              25650\n"
     ]
    }
   ],
   "metadata": {}
  },
  {
   "cell_type": "code",
   "execution_count": null,
   "source": [],
   "outputs": [],
   "metadata": {}
  }
 ],
 "metadata": {
  "orig_nbformat": 4,
  "language_info": {
   "name": "python",
   "version": "3.7.11",
   "mimetype": "text/x-python",
   "codemirror_mode": {
    "name": "ipython",
    "version": 3
   },
   "pygments_lexer": "ipython3",
   "nbconvert_exporter": "python",
   "file_extension": ".py"
  },
  "kernelspec": {
   "name": "python3",
   "display_name": "Python 3.7.11 64-bit ('myenv': conda)"
  },
  "interpreter": {
   "hash": "00bca2af0129ce580c570fb3763a438e33367b2c407c4bfbf06761b1e80f4041"
  }
 },
 "nbformat": 4,
 "nbformat_minor": 2
}