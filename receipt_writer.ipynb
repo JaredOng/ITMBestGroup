{
 "cells": [
  {
   "cell_type": "code",
   "execution_count": null,
   "source": [
    "#Guide to Receipt Content:\n",
    "# Receipt Content - a temp dict to hold the content of the receipts \n",
    "# Sales Receipt Content Format:\n",
    "#{\n",
    "#    \"kind\":\"Sales\",\n",
    "#    \"Supplier\":\"{NAME_OF_SUPPLIER}\",\n",
    "#    \"Order\":{\n",
    "#        \"{PRODUCT_NAME}\":{PRODUCT_QTY}\n",
    "#    }\n",
    "#}\n",
    "#Purchase Receipt Content Format:\n",
    "#{\n",
    "#    \"kind\":\"Purchase\",\n",
    "#    \"Order\":{\n",
    "#        \"{PRODUCT_NAME}\":{PRODUCT_QTY}\n",
    "#    }\n",
    "#}"
   ],
   "outputs": [],
   "metadata": {}
  },
  {
   "cell_type": "code",
   "execution_count": 101,
   "source": [
    "import json\n",
    "import time\n",
    "\n",
    "#Supplier Database\n",
    "g = open(\"Supplier_Database.json\")\n",
    "sdb = json.load(g)\n",
    "\n",
    "#Product List \n",
    "n = open('Product_List.ipynb')\n",
    "pdb = json.load(n)\n",
    "\n",
    "#Receipt Content \n",
    "m = open('Test_receipts/Sales_receipt_content.json')\n",
    "rdb = json.load(m)\n",
    "\n",
    "#Receipt Maker Def\n",
    "def Receipt_Maker():\n",
    "    \n",
    "    #General Functions\n",
    "    Total = 0\n",
    "\n",
    "    #Purchase Receipt\n",
    "    if rdb['kind'] == \"Purchase\":\n",
    "        #Header\n",
    "        f = open(\"Purchase_Receipt.txt\",\"w\")\n",
    "        f.write(\"---------------------------------------------\\n\") #40 Spaces\n",
    "        f.write(f\"Supplier :     {rdb['Supplier']}\\n\")\n",
    "        f.write(f\"Email    :     {sdb[rdb['Supplier']]['Email']}\\n\")\n",
    "        f.write(\"---------------------------------------------\")\n",
    "        f.write(\"\\n\")\n",
    "        f.close\n",
    "        \n",
    "        #Body\n",
    "        with open(\"Purchase_Receipt.txt\",\"a\") as f:\n",
    "            for i in rdb['Order'].keys():\n",
    "                Product = i\n",
    "                Qty = str(rdb[\"Order\"][i])\n",
    "                Subtotal = str(int(Qty) * sdb[rdb['Supplier']]['Products_CostsPHP'][Product])\n",
    "                Total += int(Subtotal)\n",
    "                while len(Product) < (31-len(Qty)):\n",
    "                    Product += \" \"\n",
    "                if len(Qty) == 1:\n",
    "                    Qty = \"0\" + Qty\n",
    "                while len(str(Qty)) < (10-len(Subtotal)):\n",
    "                    Qty += \" \"\n",
    "                f.write(f\"{Product}\\t{Qty}\\t{Subtotal}\\n\")\n",
    "    \n",
    "        #Footer\n",
    "        f = open(\"Purchase_Receipt.txt\",\"a\")\n",
    "        f.write(\"---------------------------------------------\\n\")\n",
    "        Last_Line = \"Total    :\"\n",
    "        while len(Last_Line)< (45-len(str(Total))):\n",
    "            Last_Line += \" \"\n",
    "        f.write(f\"{Last_Line}{Total}\")\n",
    "\n",
    "   #elif Type == \"Sales\":\n",
    "Receipt_Maker()"
   ],
   "outputs": [],
   "metadata": {}
  },
  {
   "cell_type": "code",
   "execution_count": null,
   "source": [],
   "outputs": [],
   "metadata": {}
  }
 ],
 "metadata": {
  "orig_nbformat": 4,
  "language_info": {
   "name": "python",
   "version": "3.7.11",
   "mimetype": "text/x-python",
   "codemirror_mode": {
    "name": "ipython",
    "version": 3
   },
   "pygments_lexer": "ipython3",
   "nbconvert_exporter": "python",
   "file_extension": ".py"
  },
  "kernelspec": {
   "name": "python3",
   "display_name": "Python 3.7.11 64-bit ('myenv': conda)"
  },
  "interpreter": {
   "hash": "00bca2af0129ce580c570fb3763a438e33367b2c407c4bfbf06761b1e80f4041"
  }
 },
 "nbformat": 4,
 "nbformat_minor": 2
}