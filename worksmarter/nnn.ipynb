{
 "cells": [
  {
   "cell_type": "code",
   "execution_count": 4,
   "source": [
    "import os,sys\n",
    "path = os.getcwd()+\"/worksmarter/Receipts_Folder/Purchase Receipts\"\n",
    "list_of_files = {}\n",
    "\n",
    "for filename in os.listdir(path):\n",
    "    list_of_files[filename] = \"http://yourpath.com/\"+filename\n",
    "list_of_files"
   ],
   "outputs": [
    {
     "output_type": "execute_result",
     "data": {
      "text/plain": [
       "{\"07-31-21_Reese's Milk and Cheese retail_Purchase_Receipt.txt\": \"http://yourpath.com/07-31-21_Reese's Milk and Cheese retail_Purchase_Receipt.txt\",\n",
       " \"07-31-21_Colyn's Cola_Purchase_Receipt.txt\": \"http://yourpath.com/07-31-21_Colyn's Cola_Purchase_Receipt.txt\",\n",
       " \"07-31-21_Shan's Shampoo_Purchase_Receipt.txt\": \"http://yourpath.com/07-31-21_Shan's Shampoo_Purchase_Receipt.txt\",\n",
       " \"07-31-21_Jared's Carriage Retail_Purchase_Receipt.txt\": \"http://yourpath.com/07-31-21_Jared's Carriage Retail_Purchase_Receipt.txt\",\n",
       " \"07-31-21_Os' Sauce and salts_Purchase_Receipt.txt\": \"http://yourpath.com/07-31-21_Os' Sauce and salts_Purchase_Receipt.txt\"}"
      ]
     },
     "metadata": {},
     "execution_count": 4
    }
   ],
   "metadata": {}
  },
  {
   "cell_type": "code",
   "execution_count": 6,
   "source": [
    "pd=os.listdir('worksmarter/Receipts_Folder/Purchase Receipts')"
   ],
   "outputs": [],
   "metadata": {}
  },
  {
   "cell_type": "code",
   "execution_count": 3,
   "source": [
    "with open(f\"Receipts_Folder/Sales Receipts/07-31-21_Sales_Receipt.txt\",\"r\") as f:\n",
    "    lines = f.read()\n",
    "    print(lines)"
   ],
   "outputs": [
    {
     "output_type": "error",
     "ename": "FileNotFoundError",
     "evalue": "[Errno 2] No such file or directory: '/Receipts_Folder/Sales Receipts/07-31-21_Sales_Receipt.txt'",
     "traceback": [
      "\u001b[0;31m---------------------------------------------------------------------------\u001b[0m",
      "\u001b[0;31mFileNotFoundError\u001b[0m                         Traceback (most recent call last)",
      "\u001b[0;32m<ipython-input-3-825ee461c092>\u001b[0m in \u001b[0;36m<module>\u001b[0;34m\u001b[0m\n\u001b[0;32m----> 1\u001b[0;31m \u001b[0;32mwith\u001b[0m \u001b[0mopen\u001b[0m\u001b[0;34m(\u001b[0m\u001b[0;34mf\"/Receipts_Folder/Sales Receipts/07-31-21_Sales_Receipt.txt\"\u001b[0m\u001b[0;34m,\u001b[0m\u001b[0;34m\"r\"\u001b[0m\u001b[0;34m)\u001b[0m \u001b[0;32mas\u001b[0m \u001b[0mf\u001b[0m\u001b[0;34m:\u001b[0m\u001b[0;34m\u001b[0m\u001b[0;34m\u001b[0m\u001b[0m\n\u001b[0m\u001b[1;32m      2\u001b[0m     \u001b[0mlines\u001b[0m \u001b[0;34m=\u001b[0m \u001b[0mf\u001b[0m\u001b[0;34m.\u001b[0m\u001b[0mread\u001b[0m\u001b[0;34m(\u001b[0m\u001b[0;34m)\u001b[0m\u001b[0;34m\u001b[0m\u001b[0;34m\u001b[0m\u001b[0m\n\u001b[1;32m      3\u001b[0m     \u001b[0mprint\u001b[0m\u001b[0;34m(\u001b[0m\u001b[0mlines\u001b[0m\u001b[0;34m)\u001b[0m\u001b[0;34m\u001b[0m\u001b[0;34m\u001b[0m\u001b[0m\n",
      "\u001b[0;31mFileNotFoundError\u001b[0m: [Errno 2] No such file or directory: '/Receipts_Folder/Sales Receipts/07-31-21_Sales_Receipt.txt'"
     ]
    }
   ],
   "metadata": {}
  },
  {
   "cell_type": "code",
   "execution_count": null,
   "source": [
    "worksmarter/Receipts_Folder/Sales Receipts/07-31-21_Sales_Receipt.txt"
   ],
   "outputs": [],
   "metadata": {}
  }
 ],
 "metadata": {
  "orig_nbformat": 4,
  "language_info": {
   "name": "python",
   "version": "3.7.11",
   "mimetype": "text/x-python",
   "codemirror_mode": {
    "name": "ipython",
    "version": 3
   },
   "pygments_lexer": "ipython3",
   "nbconvert_exporter": "python",
   "file_extension": ".py"
  },
  "kernelspec": {
   "name": "python3",
   "display_name": "Python 3.7.11 64-bit ('myenv': conda)"
  },
  "interpreter": {
   "hash": "00bca2af0129ce580c570fb3763a438e33367b2c407c4bfbf06761b1e80f4041"
  }
 },
 "nbformat": 4,
 "nbformat_minor": 2
}